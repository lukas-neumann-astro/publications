{
 "cells": [
  {
   "cell_type": "markdown",
   "id": "e520b803-2c89-4a73-a7ec-8673b44235c4",
   "metadata": {},
   "source": [
    "# Packages"
   ]
  },
  {
   "cell_type": "code",
   "execution_count": 1,
   "id": "0fa7fba0-41af-4460-930b-51d3494863a4",
   "metadata": {},
   "outputs": [],
   "source": [
    "import numpy as np\n",
    "import pandas as pd\n",
    "import astropy.units as au\n",
    "from astropy.coordinates import SkyCoord, FK5"
   ]
  },
  {
   "cell_type": "markdown",
   "id": "9fcae0b5-866b-4366-a604-e3c4fd69a963",
   "metadata": {},
   "source": [
    "# Ancillary functions"
   ]
  },
  {
   "cell_type": "code",
   "execution_count": 2,
   "id": "f6745a1c-4ea5-4e6d-b5e9-eca6eaf76264",
   "metadata": {},
   "outputs": [],
   "source": [
    "# compute relative coordinates from R.A., Dec., and radius\n",
    "def get_relative_coords(ra, dec, rgal):\n",
    "    \n",
    "    \"\"\"\n",
    "    Takes right ascension (in deg), declination (in deg) and\n",
    "    galactocentric radius (in arbitrary unit) and returns right ascension\n",
    "    and declination relative to the galactic center.\n",
    "    \"\"\"\n",
    "    \n",
    "    ind_center = np.where(rgal == 0)[0][0]  # get index of center\n",
    "    coords_ref = [str(ra[ind_center]) + ' ' + str(dec[ind_center])]\n",
    "    skycoords_ref = SkyCoord(coords_ref, frame=FK5, unit=(au.deg, au.deg))\n",
    "    coords_map = (ra, dec) *au.deg\n",
    "    skycoords_map = SkyCoord(ra=coords_map[0], dec=coords_map[1], frame=FK5)\n",
    "    aframe = skycoords_ref.skyoffset_frame()\n",
    "    delta_ra = skycoords_map.transform_to(aframe).lon.arcsec\n",
    "    delta_dec = skycoords_map.transform_to(aframe).lat.arcsec\n",
    "    \n",
    "    return delta_ra, delta_dec"
   ]
  },
  {
   "cell_type": "markdown",
   "id": "7d247585-cc8a-4520-ab95-248344d1071b",
   "metadata": {},
   "source": [
    "# Setup"
   ]
  },
  {
   "cell_type": "code",
   "execution_count": 3,
   "id": "9bc370c7-610e-4c65-b81b-7428c06f1330",
   "metadata": {},
   "outputs": [],
   "source": [
    "# directories\n",
    "wd = '/Users/lneumann/Documents/'\n",
    "data_dir = wd + 'Data/'\n",
    "\n",
    "# ALMOND\n",
    "almond_galaxies = ['ngc0628','ngc1097','ngc1365','ngc1385','ngc1511','ngc1546','ngc1566','ngc1672','ngc1792','ngc2566',\n",
    "                   'ngc2903','ngc2997','ngc3059','ngc3521','ngc3621','ngc4303','ngc4321','ngc4535','ngc4536','ngc4569',\n",
    "                   'ngc4826','ngc5248','ngc5643','ngc6300','ngc7496']\n",
    "almond_res_list = ['18.6as', '19.4as', '20.6as', '19.9as', '17.6as', '18.9as', '19.7as', '18.2as', '18.7as', '18.5as',\n",
    "                   '18.3as', '20.4as', '16.7as', '21.1as', '18.9as', '20.2as', '19.6as', '22.8as', '21.5as', '19.2as',\n",
    "                   '18.7as', '19.9as', '18.0as', '17.7as', '17.9as']\n",
    "\n",
    "# EMPIRE\n",
    "empire_galaxies = ['ngc0628', 'ngc2903', 'ngc3184', 'ngc3627', 'ngc4254', 'ngc4321', 'ngc5055', 'ngc5194', 'ngc6946']\n",
    "empire_res_list = ['33.3as', '33.3as', '33.3as', '33.3as', '33.3as', '33.3as', '33.3as', '33.3as', '33.3as']\n",
    "\n",
    "\n",
    "# combine\n",
    "galaxy_list = almond_galaxies + empire_galaxies\n",
    "res_list = almond_res_list + empire_res_list\n",
    "survey_list = ['ALMOND'] * len(almond_galaxies) + ['EMPIRE'] * len(empire_galaxies)\n",
    "\n",
    "# quantities\n",
    "quants = ['CO10', #'SHUFFCO10', \n",
    "          'CO21', #'SHUFFCO21', \n",
    "          'HCN10', #'SHUFFHCN10', \n",
    "          'HCOP10', #'SHUFFHCOP10',\n",
    "          'SD_MOL_SL24', 'SD_MOL_MW', 'SD_STAR', 'P_DE_SL24', 'P_DE_MW']"
   ]
  },
  {
   "cell_type": "markdown",
   "id": "dbaa50bd-c014-4fdc-b1a1-a09a5bd90f3b",
   "metadata": {},
   "source": [
    "# Remove centre and save pystruct"
   ]
  },
  {
   "cell_type": "code",
   "execution_count": 4,
   "id": "0b9bab8d-41e1-418b-bbe8-672548aa00dd",
   "metadata": {},
   "outputs": [],
   "source": [
    "# loop over galaxies\n",
    "for glxy, res, survey in zip(galaxy_list, res_list, survey_list):\n",
    "\n",
    "    ###### LOAD PYSTRUCTURE DATA ######\n",
    "\n",
    "    # load pystructure database\n",
    "    if survey == 'ALMOND':\n",
    "        pystruct_file = data_dir + 'ALMOND/pystruct/' + '%s_data_struct_%s_spb2.npy' % (glxy, res)\n",
    "    elif survey == 'EMPIRE':\n",
    "        pystruct_file = data_dir + 'EMPIRE/pystruct/' + '%s_data_struct_%s_spb2.npy' % (glxy, res)\n",
    "    struct = np.load(pystruct_file, allow_pickle = True).item()\n",
    "    \n",
    "    # galactocentric radius\n",
    "    rgal_kpc = struct['rgal_kpc']\n",
    "    rgal_as = struct['rgal_as']\n",
    "\n",
    "    # coordinates\n",
    "    ra_deg = struct['ra_deg']\n",
    "    dec_deg = struct['dec_deg']\n",
    "    delta_ra, delta_dec = get_relative_coords(ra_deg, dec_deg, rgal_as)\n",
    "    \n",
    "    # centre mask\n",
    "    mask = np.sqrt(delta_ra**2 + delta_dec**2) <= 1.01*float(res[:-2])/2\n",
    "    # print(sum(mask))\n",
    "\n",
    "    # put data within central beam to nan\n",
    "    for q in quants:\n",
    "        x = np.array(struct['INT_VAL_'+q])\n",
    "        x[mask] = np.nan\n",
    "        struct['INT_VAL_'+q] = x\n",
    "            \n",
    "    ######## save new pystructure file ########\n",
    "    fpath_new = pystruct_file[:-4] + '_wo_centre.npy'\n",
    "    np.save(fpath_new, struct)"
   ]
  }
 ],
 "metadata": {
  "kernelspec": {
   "display_name": "Python 3 (ipykernel)",
   "language": "python",
   "name": "python3"
  },
  "language_info": {
   "codemirror_mode": {
    "name": "ipython",
    "version": 3
   },
   "file_extension": ".py",
   "mimetype": "text/x-python",
   "name": "python",
   "nbconvert_exporter": "python",
   "pygments_lexer": "ipython3",
   "version": "3.9.20"
  }
 },
 "nbformat": 4,
 "nbformat_minor": 5
}
